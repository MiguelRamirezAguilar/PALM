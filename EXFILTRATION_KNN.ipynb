{
 "cells": [
  {
   "cell_type": "code",
   "execution_count": 1,
   "id": "767150e6",
   "metadata": {},
   "outputs": [],
   "source": [
    "import re\n",
    "import pandas as pd\n",
    "import seaborn as sns\n",
    "import numpy as np\n",
    "import matplotlib.pyplot as plt\n",
    "import warnings\n",
    "import random\n",
    "import math\n",
    "import os\n",
    "import joblib\n",
    "warnings.filterwarnings('ignore')\n",
    "\n",
    "from sklearn.feature_extraction.text import TfidfVectorizer, CountVectorizer\n",
    "from sklearn.model_selection import train_test_split\n",
    "from sklearn.metrics import precision_score, recall_score, f1_score,roc_auc_score,accuracy_score\n",
    "from sklearn.utils.multiclass import unique_labels\n",
    "from sklearn.metrics import confusion_matrix\n",
    "from sklearn.ensemble import RandomForestClassifier, IsolationForest\n",
    "\n",
    "from sklearn.neighbors import KNeighborsClassifier   # For kNN classification\n",
    "from sklearn.model_selection import GridSearchCV\n",
    "from sklearn.svm import SVC\n",
    "\n",
    "from functools import reduce\n",
    "\n",
    "from datetime import datetime\n",
    "from datetime import datetime, timedelta\n",
    "from time import time\n",
    "\n",
    "from imblearn.under_sampling import RandomUnderSampler\n",
    "from imblearn.over_sampling import SMOTE\n",
    "\n",
    "from datetime import datetime\n",
    "from datetime import datetime, timedelta\n",
    "from time import time\n",
    "from timeit import default_timer as timer\n",
    "#start = timer()\n",
    "#end = timer()\n",
    "#print(end - start) "
   ]
  },
  {
   "cell_type": "code",
   "execution_count": 2,
   "id": "dc4d0ee1",
   "metadata": {},
   "outputs": [],
   "source": [
    "def under_sampling(original_features, original_labels):\n",
    "\n",
    "    X = original_features\n",
    "    y = original_labels\n",
    "    undersample = RandomUnderSampler(sampling_strategy=0.8)\n",
    "    X_under, y_under = undersample.fit_resample(X, y)\n",
    "    malware_undersampled = X_under\n",
    "    malware_undersampled['Label']=y_under\n",
    "    print(f\"Count after undersampling: \\n{malware_undersampled['Label'].value_counts()}\")\n",
    "    print(f\"Shape of dataset: \\n{malware_undersampled.shape}\")\n",
    "    \n",
    "    undersampled_features = malware_undersampled.drop(columns = [\"Label\"])\n",
    "    undersampled_labels = malware_undersampled.Label\n",
    "\n",
    "    return undersampled_features, undersampled_labels"
   ]
  },
  {
   "cell_type": "code",
   "execution_count": 3,
   "id": "da79c11c",
   "metadata": {},
   "outputs": [],
   "source": [
    "def plot_confusion_matrix(y_true, y_pred, classes,\n",
    "                          normalize=False,\n",
    "                          title=None,\n",
    "                          cmap=plt.cm.Blues):\n",
    "    \"\"\"\n",
    "    This function prints and plots the confusion matrix.\n",
    "    Normalization can be applied by setting `normalize=True`.\n",
    "    \"\"\"\n",
    "    if not title:\n",
    "        title = 'Confusion matrix'\n",
    "\n",
    "    # Compute confusion matrix\n",
    "    cm = confusion_matrix(y_true, y_pred)\n",
    "    # Only use the labels that appear in the data\n",
    "  #  classes = unique_labels(y_true, y_pred)\n",
    "    print('Confusion matrix')\n",
    "    print(cm)\n",
    "\n",
    "    fig, ax = plt.subplots()\n",
    "    im = ax.imshow(cm, interpolation='nearest', cmap=cmap)\n",
    "    ax.figure.colorbar(im, ax=ax)\n",
    "    # We want to show all ticks...\n",
    "    ax.set(xticks=np.arange(cm.shape[1]),\n",
    "           yticks=np.arange(cm.shape[0]),\n",
    "           # ... and label them with the respective list entries\n",
    "           xticklabels=classes, yticklabels=classes,\n",
    "           title=title,\n",
    "           ylabel='True label',\n",
    "           xlabel='Predicted label')\n",
    "\n",
    "    # Rotate the tick labels and set their alignment.\n",
    "    plt.setp(ax.get_xticklabels(), rotation=45, ha=\"right\",\n",
    "             rotation_mode=\"anchor\")\n",
    "\n",
    "    # Loop over data dimensions and create text annotations.\n",
    "    fmt = '.2f' if normalize else 'd'\n",
    "    thresh = cm.max() / 2.\n",
    "    for i in range(cm.shape[0]):\n",
    "        for j in range(cm.shape[1]):\n",
    "            ax.text(j, i, format(cm[i, j], fmt),\n",
    "                    ha=\"center\", va=\"center\",\n",
    "                    color=\"white\" if cm[i, j] > thresh else \"black\")\n",
    "    fig.tight_layout()\n",
    "    return ax"
   ]
  },
  {
   "cell_type": "markdown",
   "id": "b906cb45",
   "metadata": {},
   "source": [
    "# RAW DATASET (NOT NECESSARY)"
   ]
  },
  {
   "cell_type": "markdown",
   "id": "d40dd93c",
   "metadata": {},
   "source": [
    "malware = pd.read_csv('train_set.csv') # Read dataset\n",
    "malware.head()"
   ]
  },
  {
   "cell_type": "markdown",
   "id": "b97902bd",
   "metadata": {},
   "source": [
    "# malware.shape\n",
    "print(f\"Shape of original dataset: \\n{malware.shape}\")"
   ]
  },
  {
   "cell_type": "markdown",
   "id": "61c55666",
   "metadata": {},
   "source": [
    "# LABELSDsitributed data (0=benign and 1=malign)\n",
    "print(f\"Count original dataset: \\n{malware['Label'].value_counts()}\")"
   ]
  },
  {
   "cell_type": "markdown",
   "id": "d3dafedc",
   "metadata": {},
   "source": [
    "# Show all blank spaces in dataset (if any)\n",
    "malware.isnull().sum() "
   ]
  },
  {
   "cell_type": "code",
   "execution_count": 4,
   "id": "924c7153",
   "metadata": {},
   "outputs": [],
   "source": [
    "train_set = pd.read_csv('train_set.csv')\n",
    "test_set = pd.read_csv('test_set.csv')"
   ]
  },
  {
   "cell_type": "code",
   "execution_count": 5,
   "id": "0a930d3b",
   "metadata": {},
   "outputs": [
    {
     "data": {
      "text/html": [
       "<div>\n",
       "<style scoped>\n",
       "    .dataframe tbody tr th:only-of-type {\n",
       "        vertical-align: middle;\n",
       "    }\n",
       "\n",
       "    .dataframe tbody tr th {\n",
       "        vertical-align: top;\n",
       "    }\n",
       "\n",
       "    .dataframe thead th {\n",
       "        text-align: right;\n",
       "    }\n",
       "</style>\n",
       "<table border=\"1\" class=\"dataframe\">\n",
       "  <thead>\n",
       "    <tr style=\"text-align: right;\">\n",
       "      <th></th>\n",
       "      <th>epoll_pwait epoll_pwait read</th>\n",
       "      <th>epoll_pwait read getuid</th>\n",
       "      <th>epoll_pwait read madvise</th>\n",
       "      <th>ioctl epoll_pwait read</th>\n",
       "      <th>madvise getuid epoll_pwait</th>\n",
       "      <th>read getuid epoll_pwait</th>\n",
       "      <th>read madvise getuid</th>\n",
       "      <th>epoll_pwait read futex</th>\n",
       "      <th>futex futex futex</th>\n",
       "      <th>futex futex getuid</th>\n",
       "      <th>...</th>\n",
       "      <th>fcntl64 pread64 mmap2</th>\n",
       "      <th>mmap2 gettimeofday getppid</th>\n",
       "      <th>close rt_sigprocmask gettimeofday</th>\n",
       "      <th>close gettimeofday pread64</th>\n",
       "      <th>getppid pread64 mmap2</th>\n",
       "      <th>pread64 mmap2 socket</th>\n",
       "      <th>fcntl close sendmsg</th>\n",
       "      <th>epoll_pwait ppoll recvmsg</th>\n",
       "      <th>ppoll recvmsg ioctl</th>\n",
       "      <th>Label</th>\n",
       "    </tr>\n",
       "  </thead>\n",
       "  <tbody>\n",
       "    <tr>\n",
       "      <th>0</th>\n",
       "      <td>56</td>\n",
       "      <td>62</td>\n",
       "      <td>0</td>\n",
       "      <td>6</td>\n",
       "      <td>0</td>\n",
       "      <td>63</td>\n",
       "      <td>0.0</td>\n",
       "      <td>7</td>\n",
       "      <td>131</td>\n",
       "      <td>40</td>\n",
       "      <td>...</td>\n",
       "      <td>0.0</td>\n",
       "      <td>0.0</td>\n",
       "      <td>0.0</td>\n",
       "      <td>0.0</td>\n",
       "      <td>0.0</td>\n",
       "      <td>0.0</td>\n",
       "      <td>0.0</td>\n",
       "      <td>0.0</td>\n",
       "      <td>0.0</td>\n",
       "      <td>0.0</td>\n",
       "    </tr>\n",
       "    <tr>\n",
       "      <th>1</th>\n",
       "      <td>0</td>\n",
       "      <td>0</td>\n",
       "      <td>0</td>\n",
       "      <td>1</td>\n",
       "      <td>0</td>\n",
       "      <td>0</td>\n",
       "      <td>0.0</td>\n",
       "      <td>0</td>\n",
       "      <td>0</td>\n",
       "      <td>0</td>\n",
       "      <td>...</td>\n",
       "      <td>0.0</td>\n",
       "      <td>0.0</td>\n",
       "      <td>0.0</td>\n",
       "      <td>0.0</td>\n",
       "      <td>0.0</td>\n",
       "      <td>0.0</td>\n",
       "      <td>0.0</td>\n",
       "      <td>0.0</td>\n",
       "      <td>0.0</td>\n",
       "      <td>1.0</td>\n",
       "    </tr>\n",
       "    <tr>\n",
       "      <th>2</th>\n",
       "      <td>5</td>\n",
       "      <td>3</td>\n",
       "      <td>0</td>\n",
       "      <td>1</td>\n",
       "      <td>0</td>\n",
       "      <td>4</td>\n",
       "      <td>0.0</td>\n",
       "      <td>1</td>\n",
       "      <td>0</td>\n",
       "      <td>0</td>\n",
       "      <td>...</td>\n",
       "      <td>0.0</td>\n",
       "      <td>0.0</td>\n",
       "      <td>0.0</td>\n",
       "      <td>0.0</td>\n",
       "      <td>0.0</td>\n",
       "      <td>0.0</td>\n",
       "      <td>0.0</td>\n",
       "      <td>0.0</td>\n",
       "      <td>0.0</td>\n",
       "      <td>0.0</td>\n",
       "    </tr>\n",
       "    <tr>\n",
       "      <th>3</th>\n",
       "      <td>1</td>\n",
       "      <td>0</td>\n",
       "      <td>0</td>\n",
       "      <td>0</td>\n",
       "      <td>0</td>\n",
       "      <td>0</td>\n",
       "      <td>0.0</td>\n",
       "      <td>0</td>\n",
       "      <td>0</td>\n",
       "      <td>1</td>\n",
       "      <td>...</td>\n",
       "      <td>0.0</td>\n",
       "      <td>0.0</td>\n",
       "      <td>0.0</td>\n",
       "      <td>0.0</td>\n",
       "      <td>0.0</td>\n",
       "      <td>0.0</td>\n",
       "      <td>0.0</td>\n",
       "      <td>0.0</td>\n",
       "      <td>0.0</td>\n",
       "      <td>0.0</td>\n",
       "    </tr>\n",
       "    <tr>\n",
       "      <th>4</th>\n",
       "      <td>0</td>\n",
       "      <td>0</td>\n",
       "      <td>0</td>\n",
       "      <td>0</td>\n",
       "      <td>0</td>\n",
       "      <td>0</td>\n",
       "      <td>0.0</td>\n",
       "      <td>0</td>\n",
       "      <td>43</td>\n",
       "      <td>0</td>\n",
       "      <td>...</td>\n",
       "      <td>0.0</td>\n",
       "      <td>0.0</td>\n",
       "      <td>0.0</td>\n",
       "      <td>0.0</td>\n",
       "      <td>0.0</td>\n",
       "      <td>0.0</td>\n",
       "      <td>0.0</td>\n",
       "      <td>0.0</td>\n",
       "      <td>0.0</td>\n",
       "      <td>1.0</td>\n",
       "    </tr>\n",
       "  </tbody>\n",
       "</table>\n",
       "<p>5 rows × 1943 columns</p>\n",
       "</div>"
      ],
      "text/plain": [
       "   epoll_pwait epoll_pwait read  epoll_pwait read getuid  \\\n",
       "0                            56                       62   \n",
       "1                             0                        0   \n",
       "2                             5                        3   \n",
       "3                             1                        0   \n",
       "4                             0                        0   \n",
       "\n",
       "   epoll_pwait read madvise  ioctl epoll_pwait read  \\\n",
       "0                         0                       6   \n",
       "1                         0                       1   \n",
       "2                         0                       1   \n",
       "3                         0                       0   \n",
       "4                         0                       0   \n",
       "\n",
       "   madvise getuid epoll_pwait  read getuid epoll_pwait  read madvise getuid  \\\n",
       "0                           0                       63                  0.0   \n",
       "1                           0                        0                  0.0   \n",
       "2                           0                        4                  0.0   \n",
       "3                           0                        0                  0.0   \n",
       "4                           0                        0                  0.0   \n",
       "\n",
       "   epoll_pwait read futex  futex futex futex  futex futex getuid  ...  \\\n",
       "0                       7                131                  40  ...   \n",
       "1                       0                  0                   0  ...   \n",
       "2                       1                  0                   0  ...   \n",
       "3                       0                  0                   1  ...   \n",
       "4                       0                 43                   0  ...   \n",
       "\n",
       "   fcntl64 pread64 mmap2  mmap2 gettimeofday getppid  \\\n",
       "0                    0.0                         0.0   \n",
       "1                    0.0                         0.0   \n",
       "2                    0.0                         0.0   \n",
       "3                    0.0                         0.0   \n",
       "4                    0.0                         0.0   \n",
       "\n",
       "   close rt_sigprocmask gettimeofday  close gettimeofday pread64  \\\n",
       "0                                0.0                         0.0   \n",
       "1                                0.0                         0.0   \n",
       "2                                0.0                         0.0   \n",
       "3                                0.0                         0.0   \n",
       "4                                0.0                         0.0   \n",
       "\n",
       "   getppid pread64 mmap2  pread64 mmap2 socket  fcntl close sendmsg  \\\n",
       "0                    0.0                   0.0                  0.0   \n",
       "1                    0.0                   0.0                  0.0   \n",
       "2                    0.0                   0.0                  0.0   \n",
       "3                    0.0                   0.0                  0.0   \n",
       "4                    0.0                   0.0                  0.0   \n",
       "\n",
       "   epoll_pwait ppoll recvmsg  ppoll recvmsg ioctl  Label  \n",
       "0                        0.0                  0.0    0.0  \n",
       "1                        0.0                  0.0    1.0  \n",
       "2                        0.0                  0.0    0.0  \n",
       "3                        0.0                  0.0    0.0  \n",
       "4                        0.0                  0.0    1.0  \n",
       "\n",
       "[5 rows x 1943 columns]"
      ]
     },
     "execution_count": 5,
     "metadata": {},
     "output_type": "execute_result"
    }
   ],
   "source": [
    "train_set.head()"
   ]
  },
  {
   "cell_type": "code",
   "execution_count": 6,
   "id": "cccd0d6a",
   "metadata": {},
   "outputs": [],
   "source": [
    "x_train = train_set.drop(columns = ['Label'])\n",
    "y_train = train_set.Label\n",
    "x_test = test_set.drop(columns = ['Label'])\n",
    "y_test = test_set.Label"
   ]
  },
  {
   "cell_type": "code",
   "execution_count": 7,
   "id": "bfd6c302",
   "metadata": {},
   "outputs": [
    {
     "data": {
      "text/plain": [
       "0        0.0\n",
       "1        1.0\n",
       "2        0.0\n",
       "3        0.0\n",
       "4        1.0\n",
       "        ... \n",
       "31406    0.0\n",
       "31407    0.0\n",
       "31408    1.0\n",
       "31409    1.0\n",
       "31410    0.0\n",
       "Name: Label, Length: 31411, dtype: float64"
      ]
     },
     "execution_count": 7,
     "metadata": {},
     "output_type": "execute_result"
    }
   ],
   "source": [
    "y_train"
   ]
  },
  {
   "cell_type": "code",
   "execution_count": 8,
   "id": "d30622af",
   "metadata": {},
   "outputs": [
    {
     "name": "stdout",
     "output_type": "stream",
     "text": [
      "Shape of LABEL VECTOR: \n",
      "(31411,)\n"
     ]
    }
   ],
   "source": [
    "print(f\"Shape of LABEL VECTOR: \\n{y_train.shape}\")"
   ]
  },
  {
   "cell_type": "code",
   "execution_count": 9,
   "id": "bd272cce",
   "metadata": {},
   "outputs": [
    {
     "data": {
      "text/plain": [
       "31411"
      ]
     },
     "execution_count": 9,
     "metadata": {},
     "output_type": "execute_result"
    }
   ],
   "source": [
    "y_train.shape[0]"
   ]
  },
  {
   "cell_type": "code",
   "execution_count": 10,
   "id": "01b5a438",
   "metadata": {},
   "outputs": [
    {
     "data": {
      "text/plain": [
       "array([0., 0., 0., ..., 0., 0., 0.])"
      ]
     },
     "execution_count": 10,
     "metadata": {},
     "output_type": "execute_result"
    }
   ],
   "source": [
    "z_train=np.zeros(y_train.shape[0])\n",
    "z_train"
   ]
  },
  {
   "cell_type": "markdown",
   "id": "4c42e485",
   "metadata": {},
   "source": [
    "#z_train=np.zeros(y_train.shape[0])\n",
    "z_train=train_set.Label\n",
    "a=0;b=0;\n",
    "for l in range(0,31410):\n",
    "    c=y_train[l];\n",
    "    if (c==0):\n",
    "        z_train[l]=1\n",
    "        a=a+1\n",
    "    else:\n",
    "        z_train[l]=0\n",
    "        b=b+1\n",
    "    \n",
    "print(f\"Original label vector: \\n{y_train}\")\n",
    "print(f\"Poisoned label vector: \\n{z_train}\")\n",
    "    "
   ]
  },
  {
   "cell_type": "markdown",
   "id": "348c0336",
   "metadata": {},
   "source": [
    "#z_train=np.zeros(y_train.shape[0])\n",
    "z_train=train_set.Label\n",
    "a=0;b=0;\n",
    "kpoison=0.2\n",
    "rate_poison=kpoison*31410;\n",
    "for l in range(0,31410):\n",
    "    if((a+b)<rate_poison):\n",
    "        c=y_train[l];\n",
    "        if (c==0):\n",
    "            z_train[l]=1\n",
    "            a=a+1\n",
    "        else:\n",
    "            z_train[l]=0\n",
    "            b=b+1\n",
    "    \n",
    "print(f\"Original label vector: \\n{y_train}\")\n",
    "print(f\"Poisoned label vector: \\n{z_train}\")\n",
    "    "
   ]
  },
  {
   "cell_type": "code",
   "execution_count": 11,
   "id": "f547c412",
   "metadata": {},
   "outputs": [
    {
     "name": "stdout",
     "output_type": "stream",
     "text": [
      "Original label vector: \n",
      "0        0.0\n",
      "1        0.0\n",
      "2        1.0\n",
      "3        1.0\n",
      "4        0.0\n",
      "        ... \n",
      "31406    0.0\n",
      "31407    1.0\n",
      "31408    0.0\n",
      "31409    1.0\n",
      "31410    0.0\n",
      "Name: Label, Length: 31411, dtype: float64\n",
      "Poisoned label vector: \n",
      "0        0.0\n",
      "1        0.0\n",
      "2        1.0\n",
      "3        1.0\n",
      "4        0.0\n",
      "        ... \n",
      "31406    0.0\n",
      "31407    1.0\n",
      "31408    0.0\n",
      "31409    1.0\n",
      "31410    0.0\n",
      "Name: Label, Length: 31411, dtype: float64\n"
     ]
    }
   ],
   "source": [
    "#z_train=np.zeros(y_train.shape[0])\n",
    "z_train=train_set.Label\n",
    "a=0;b=0;\n",
    "kpoison=1.0\n",
    "rate_poison=round(kpoison*31410);\n",
    "\n",
    "for l in range(0,rate_poison):\n",
    "    location=random.randint(0,31410)\n",
    "    #if((a+b)<rate_poison):\n",
    "    c=y_train[location];\n",
    "    if (c==0):\n",
    "        z_train[location]=1\n",
    "        a=a+1\n",
    "    else:\n",
    "        z_train[location]=0\n",
    "        b=b+1\n",
    "    \n",
    "print(f\"Original label vector: \\n{y_train}\")\n",
    "print(f\"Poisoned label vector: \\n{z_train}\")\n"
   ]
  },
  {
   "cell_type": "code",
   "execution_count": 12,
   "id": "783c6dc8",
   "metadata": {},
   "outputs": [
    {
     "data": {
      "text/plain": [
       "3604"
      ]
     },
     "execution_count": 12,
     "metadata": {},
     "output_type": "execute_result"
    }
   ],
   "source": [
    "location=random.randint(0,31410)\n",
    "location"
   ]
  },
  {
   "cell_type": "code",
   "execution_count": 13,
   "id": "d18354bf",
   "metadata": {},
   "outputs": [
    {
     "data": {
      "text/plain": [
       "31410"
      ]
     },
     "execution_count": 13,
     "metadata": {},
     "output_type": "execute_result"
    }
   ],
   "source": [
    "a+b"
   ]
  },
  {
   "cell_type": "code",
   "execution_count": 14,
   "id": "858acbe5",
   "metadata": {},
   "outputs": [],
   "source": [
    "# Sets up a kNN model and fits it to data\n",
    "knn = KNeighborsClassifier(n_neighbors=5) \\\n",
    "    .fit(x_train, y_train.values.ravel())\n",
    "cv=knn"
   ]
  },
  {
   "cell_type": "code",
   "execution_count": 15,
   "id": "c2094991",
   "metadata": {},
   "outputs": [
    {
     "name": "stdout",
     "output_type": "stream",
     "text": [
      "Confusion matrix\n",
      "[[2903 1724]\n",
      " [1224 2002]]\n"
     ]
    },
    {
     "data": {
      "image/png": "[encoded data removed]",
      "text/plain": [
       "<Figure size 432x288 with 2 Axes>"
      ]
     },
     "metadata": {
      "needs_background": "light"
     },
     "output_type": "display_data"
    },
    {
     "name": "stdout",
     "output_type": "stream",
     "text": [
      "The accuracy is: 0.6246020629058958\n",
      "The precision is: 0.5373054213633924\n",
      "The recall is: 0.6205827650340979\n",
      "The f1 score is: 0.5759493670886077\n",
      "The auc score is: 0.6239935653569021\n"
     ]
    }
   ],
   "source": [
    "y_predicted = knn.predict(x_test).astype(int)\n",
    "plot_confusion_matrix(y_test, y_predicted, classes=unique_labels(y_test.astype(int), y_predicted), title='Confusion matrix')\n",
    "plt.show()\n",
    "print(f\"The accuracy is: {accuracy_score(y_test, y_predicted)}\")\n",
    "print(f\"The precision is: {precision_score(y_test, y_predicted)}\")\n",
    "print(f\"The recall is: {recall_score(y_test, y_predicted)}\")\n",
    "print(f\"The f1 score is: {f1_score(y_test, y_predicted)}\")\n",
    "print(f\"The auc score is: {roc_auc_score(y_test, y_predicted)}\")\n",
    "y_predicted = pd.DataFrame(y_predicted)\n",
    "test_set_prediction = x_test\n",
    "test_set_prediction['Predicted Label'] = y_predicted\n",
    "test_set_prediction.to_csv('test_set_prediction.csv',index=False)"
   ]
  }
 ],
 "metadata": {
  "kernelspec": {
   "display_name": "Python 3",
   "language": "python",
   "name": "python3"
  },
  "language_info": {
   "codemirror_mode": {
    "name": "ipython",
    "version": 3
   },
   "file_extension": ".py",
   "mimetype": "text/x-python",
   "name": "python",
   "nbconvert_exporter": "python",
   "pygments_lexer": "ipython3",
   "version": "3.8.8"
  }
 },
 "nbformat": 4,
 "nbformat_minor": 5
}
